{
  "nbformat": 4,
  "nbformat_minor": 0,
  "metadata": {
    "colab": {
      "provenance": [],
      "mount_file_id": "1wNszfRNK94G1h1dsPy8SUk-cGhd-1kSP",
      "authorship_tag": "ABX9TyOSlCxLMgFzoZPlf0ZSqMzN",
      "include_colab_link": true
    },
    "kernelspec": {
      "name": "python3",
      "display_name": "Python 3"
    },
    "language_info": {
      "name": "python"
    }
  },
  "cells": [
    {
      "cell_type": "markdown",
      "metadata": {
        "id": "view-in-github",
        "colab_type": "text"
      },
      "source": [
        "<a href=\"https://colab.research.google.com/github/JoseBalmori/Reporte/blob/main/Ejercicios_de_Tipos_de_Datos_Simples_Phyton.ipynb\" target=\"_parent\"><img src=\"https://colab.research.google.com/assets/colab-badge.svg\" alt=\"Open In Colab\"/></a>"
      ]
    },
    {
      "cell_type": "code",
      "execution_count": 1,
      "metadata": {
        "colab": {
          "base_uri": "https://localhost:8080/"
        },
        "id": "oRC_LHj7hB1N",
        "outputId": "2f2c2715-bdb9-413c-f041-f58515f3e77f"
      },
      "outputs": [
        {
          "output_type": "stream",
          "name": "stdout",
          "text": [
            "¡Hola Mundo!\n"
          ]
        }
      ],
      "source": [
        "#1.-Escribir un programa que muestre por pantalla la cadena ¡Hola Mundo!.\n",
        "\n",
        "print(\"¡Hola Mundo!\")"
      ]
    },
    {
      "cell_type": "code",
      "source": [
        "#2.-Escribir un programa que almacene la cadena ¡Hola Mundo! en una variable y luego muestre por pantalla el contenido de la variable.\n",
        "variable = \"¡Hola mundo!\"\n",
        "print (variable)"
      ],
      "metadata": {
        "colab": {
          "base_uri": "https://localhost:8080/"
        },
        "id": "Xjvuk2bhmxT9",
        "outputId": "29f92458-6369-4858-ea35-370a12f8d3b8"
      },
      "execution_count": 4,
      "outputs": [
        {
          "output_type": "stream",
          "name": "stdout",
          "text": [
            "¡Hola mundo!\n"
          ]
        }
      ]
    }
  ]
}